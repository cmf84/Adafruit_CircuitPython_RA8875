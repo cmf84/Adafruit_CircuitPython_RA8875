{
 "cells": [
  {
   "cell_type": "code",
   "execution_count": 1,
   "id": "5c7bfc7a-1a59-41bc-8741-4198050bdfd0",
   "metadata": {},
   "outputs": [],
   "source": [
    "from adafruit_ra8875 import ra8875\n",
    "import adafruit_ra8875.registers as reg\n",
    "import time\n",
    "from adafruit_ra8875.ra8875 import color565\n",
    "BLACK = color565(0, 0, 0)\n",
    "RED = color565(255, 0, 0)\n",
    "GREEN = color565(0, 255, 0)\n",
    "BLUE = color565(0, 0, 255)\n",
    "YELLOW = color565(255, 255, 0)\n",
    "CYAN = color565(0, 255, 255)\n",
    "MAGENTA = color565(255, 0, 255)\n",
    "WHITE = color565(255, 255, 255)\n",
    "\n",
    "def BytesToHex(Bytes):\n",
    "   return ''.join([\"0x%02X \" % x for x in Bytes]).strip()"
   ]
  },
  {
   "cell_type": "code",
   "execution_count": 2,
   "id": "feb84d16-8f90-4ea6-8bc2-4e0835b7ebd6",
   "metadata": {},
   "outputs": [],
   "source": [
    "BAUDRATE = 1000000\n",
    "display = ra8875.RA8875(spi_bus=0, spi_device=0, baudrate=BAUDRATE, polarity=1,phase=1)"
   ]
  },
  {
   "cell_type": "code",
   "execution_count": 64,
   "id": "15a9feda-d6b4-4bf0-a785-515d30ed64dd",
   "metadata": {},
   "outputs": [
    {
     "data": {
      "text/plain": [
       "'0x8b'"
      ]
     },
     "execution_count": 64,
     "metadata": {},
     "output_type": "execute_result"
    }
   ],
   "source": [
    "hex(reg.P1DCR)"
   ]
  },
  {
   "cell_type": "code",
   "execution_count": 8,
   "id": "e0d921e2-9d0b-437d-af12-26c7cc8093dd",
   "metadata": {},
   "outputs": [],
   "source": [
    "test = display._write_reg(reg.P1DCR,255)"
   ]
  },
  {
   "cell_type": "code",
   "execution_count": 50,
   "id": "09499fc8-ae4d-4ddb-9aad-5b8315549e87",
   "metadata": {},
   "outputs": [
    {
     "data": {
      "text/plain": [
       "'0x64'"
      ]
     },
     "execution_count": 50,
     "metadata": {},
     "output_type": "execute_result"
    }
   ],
   "source": [
    "hex(100)"
   ]
  },
  {
   "cell_type": "code",
   "execution_count": 5,
   "id": "79a90052-c3e8-4063-befe-cf5faf4d6e45",
   "metadata": {},
   "outputs": [],
   "source": [
    "test = display._read_reg(reg.P1DCR)"
   ]
  },
  {
   "cell_type": "code",
   "execution_count": 6,
   "id": "53d148f6-f869-460c-b997-390adf192075",
   "metadata": {},
   "outputs": [
    {
     "data": {
      "text/plain": [
       "'0x64'"
      ]
     },
     "execution_count": 6,
     "metadata": {},
     "output_type": "execute_result"
    }
   ],
   "source": [
    "hex(test)"
   ]
  },
  {
   "cell_type": "code",
   "execution_count": 3,
   "id": "5476510a-6247-4ab4-bcf8-f07e383c85a4",
   "metadata": {
    "tags": []
   },
   "outputs": [],
   "source": [
    "display.init()"
   ]
  },
  {
   "cell_type": "code",
   "execution_count": 4,
   "id": "6326598d-6d31-401e-9f7a-d20bfef64710",
   "metadata": {},
   "outputs": [],
   "source": [
    "display.fill(RED)"
   ]
  },
  {
   "cell_type": "code",
   "execution_count": 7,
   "id": "6dfeb5bf-4888-4269-ae8b-3c877da1cf86",
   "metadata": {},
   "outputs": [],
   "source": [
    "display.brightness(100)"
   ]
  },
  {
   "cell_type": "code",
   "execution_count": 10,
   "id": "4d1ab824-09d4-4e8b-8b5c-5431f4f56e99",
   "metadata": {},
   "outputs": [],
   "source": [
    "display.fill(BLUE)"
   ]
  },
  {
   "cell_type": "code",
   "execution_count": 12,
   "id": "8f8cd45d-6359-4b09-8507-068319b85b60",
   "metadata": {},
   "outputs": [],
   "source": [
    "display.spi_device.close()"
   ]
  },
  {
   "cell_type": "markdown",
   "id": "75038233-93ba-4772-9fa3-71f382684333",
   "metadata": {},
   "source": [
    "## some more random testing below (probably to be deleted)"
   ]
  },
  {
   "cell_type": "code",
   "execution_count": 4,
   "id": "5be07175-3ae2-4137-9570-4f83691c7ee0",
   "metadata": {},
   "outputs": [],
   "source": [
    "display._write_reg(reg.SYSR, reg.SYSR_16BPP)"
   ]
  },
  {
   "cell_type": "code",
   "execution_count": 34,
   "id": "29f9f7ea-21e3-4b82-864e-92e0a0e47f04",
   "metadata": {},
   "outputs": [
    {
     "data": {
      "text/plain": [
       "bytearray(b'\\x0c')"
      ]
     },
     "execution_count": 34,
     "metadata": {},
     "output_type": "execute_result"
    }
   ],
   "source": [
    "bytearray([reg.SYSR_16BPP & 0xFF])"
   ]
  },
  {
   "cell_type": "code",
   "execution_count": 95,
   "id": "3c09b4d5-2e1a-40a3-9644-3fbec8c499ae",
   "metadata": {},
   "outputs": [
    {
     "data": {
      "text/plain": [
       "255"
      ]
     },
     "execution_count": 95,
     "metadata": {},
     "output_type": "execute_result"
    }
   ],
   "source": [
    "display._read_reg(reg.PWRR)"
   ]
  },
  {
   "cell_type": "code",
   "execution_count": 114,
   "id": "dcc34f2a-fa49-4c6f-967c-c2befb8943c9",
   "metadata": {},
   "outputs": [],
   "source": [
    "DATWR = b\"\\x00\"  # Data Write\n",
    "DATRD = b\"\\x40\"  # Data Read\n",
    "CMDWR = b\"\\x80\"  # Command Write\n",
    "CMDWR2 = 0x80  # Command Write\n",
    "CMDRD = b\"\\xC0\"  # Status Read"
   ]
  },
  {
   "cell_type": "code",
   "execution_count": 111,
   "id": "3198c2c6-f2c6-46c1-8e45-c291b9cb446e",
   "metadata": {},
   "outputs": [
    {
     "data": {
      "text/plain": [
       "int"
      ]
     },
     "execution_count": 111,
     "metadata": {},
     "output_type": "execute_result"
    }
   ],
   "source": [
    "type(reg.PCSR)"
   ]
  },
  {
   "cell_type": "code",
   "execution_count": 112,
   "id": "0b2eedb7-a9f6-4324-8d0c-61b2082b9a54",
   "metadata": {},
   "outputs": [
    {
     "data": {
      "text/plain": [
       "'0b10000000'"
      ]
     },
     "execution_count": 112,
     "metadata": {},
     "output_type": "execute_result"
    }
   ],
   "source": [
    "bin(int.from_bytes(CMDWR,'big'))"
   ]
  },
  {
   "cell_type": "code",
   "execution_count": 113,
   "id": "584dbd52-70c4-4508-b843-28300043198e",
   "metadata": {},
   "outputs": [
    {
     "data": {
      "text/plain": [
       "'0b10000000'"
      ]
     },
     "execution_count": 113,
     "metadata": {},
     "output_type": "execute_result"
    }
   ],
   "source": [
    "bin(0x80)"
   ]
  },
  {
   "cell_type": "code",
   "execution_count": 108,
   "id": "a54ce880-37c9-4e38-87af-2676aa41e302",
   "metadata": {},
   "outputs": [],
   "source": [
    "display._write_cmd(reg.PCSR)"
   ]
  },
  {
   "cell_type": "code",
   "execution_count": 128,
   "id": "8c6fc39a-6f83-40e9-a20e-a599fc46f2b3",
   "metadata": {},
   "outputs": [
    {
     "data": {
      "text/plain": [
       "'0x4'"
      ]
     },
     "execution_count": 128,
     "metadata": {},
     "output_type": "execute_result"
    }
   ],
   "source": [
    "hex(reg.PCSR)"
   ]
  },
  {
   "cell_type": "code",
   "execution_count": 105,
   "id": "42cc5fa9-8c59-471c-a792-e49c455d4eda",
   "metadata": {},
   "outputs": [
    {
     "data": {
      "text/plain": [
       "bytearray(b'\\x04')"
      ]
     },
     "execution_count": 105,
     "metadata": {},
     "output_type": "execute_result"
    }
   ],
   "source": [
    "bytearray([reg.PCSR & 0xFF])"
   ]
  },
  {
   "cell_type": "code",
   "execution_count": 102,
   "id": "f0607da9-cf0f-4d9d-a205-ac1af109b651",
   "metadata": {},
   "outputs": [
    {
     "data": {
      "text/plain": [
       "'0b100'"
      ]
     },
     "execution_count": 102,
     "metadata": {},
     "output_type": "execute_result"
    }
   ],
   "source": [
    "bin(int.from_bytes(b'\\x04','big'))"
   ]
  },
  {
   "cell_type": "code",
   "execution_count": 133,
   "id": "246daaf9-89d9-464c-bdf3-51e68ab031f4",
   "metadata": {},
   "outputs": [],
   "source": [
    "display.spi_device.writebytes2(bytearray([0xFF,0xAA,0xFF]))"
   ]
  },
  {
   "cell_type": "code",
   "execution_count": 138,
   "id": "ef8f6f59-950c-41f1-a31f-d08d0f0f3d13",
   "metadata": {},
   "outputs": [],
   "source": [
    "ba0 = bytearray([reg.PCSR])\n",
    "ba1 = bytearray([0xAA,0xFF])"
   ]
  },
  {
   "cell_type": "code",
   "execution_count": 144,
   "id": "199f161a-e5bb-4c19-b3d6-586633c3fd3b",
   "metadata": {},
   "outputs": [],
   "source": [
    "display.spi_device.writebytes2(ba0 + ba1)"
   ]
  },
  {
   "cell_type": "code",
   "execution_count": 149,
   "id": "08d8c98a-565d-4d7d-b236-9cf5729db7d2",
   "metadata": {},
   "outputs": [],
   "source": [
    "test = bytes(\"sada\",\"utf8\")"
   ]
  }
 ],
 "metadata": {
  "kernelspec": {
   "display_name": "Python 3 (ipykernel)",
   "language": "python",
   "name": "python3"
  },
  "language_info": {
   "codemirror_mode": {
    "name": "ipython",
    "version": 3
   },
   "file_extension": ".py",
   "mimetype": "text/x-python",
   "name": "python",
   "nbconvert_exporter": "python",
   "pygments_lexer": "ipython3",
   "version": "3.10.4"
  }
 },
 "nbformat": 4,
 "nbformat_minor": 5
}
